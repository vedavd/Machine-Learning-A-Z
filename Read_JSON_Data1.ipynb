{
  "nbformat": 4,
  "nbformat_minor": 0,
  "metadata": {
    "colab": {
      "name": "Read JSON Data.ipynb",
      "provenance": []
    },
    "kernelspec": {
      "name": "python3",
      "display_name": "Python 3"
    }
  },
  "cells": [
    {
      "cell_type": "code",
      "metadata": {
        "id": "Jf5hTN8jPF8y",
        "colab_type": "code",
        "colab": {}
      },
      "source": [
        "import numpy as np\n",
        "import pandas as pd\n",
        "import requests\n",
        "import json"
      ],
      "execution_count": 0,
      "outputs": []
    },
    {
      "cell_type": "code",
      "metadata": {
        "id": "2JZ8NOR7OQKW",
        "colab_type": "code",
        "outputId": "404b9217-f754-430f-d919-3bcd06d22be1",
        "colab": {
          "base_uri": "https://localhost:8080/",
          "height": 621
        }
      },
      "source": [
        "#Read the data from URL\n",
        "url = \"https://wind-bow.glitch.me/twitch-api/channels/freecodecamp\"\n",
        "JSONContent = requests.get(url).json()\n",
        "content = json.dumps(JSONContent, indent = 4, sort_keys=True)\n",
        "print(content)"
      ],
      "execution_count": 0,
      "outputs": [
        {
          "output_type": "stream",
          "text": [
            "{\n",
            "    \"_id\": 79776140,\n",
            "    \"_links\": {\n",
            "        \"chat\": \"https://api.twitch.tv/kraken/chat/freecodecamp\",\n",
            "        \"commercial\": \"https://api.twitch.tv/kraken/channels/freecodecamp/commercial\",\n",
            "        \"editors\": \"https://api.twitch.tv/kraken/channels/freecodecamp/editors\",\n",
            "        \"follows\": \"https://api.twitch.tv/kraken/channels/freecodecamp/follows\",\n",
            "        \"self\": \"https://api.twitch.tv/kraken/channels/freecodecamp\",\n",
            "        \"stream_key\": \"https://api.twitch.tv/kraken/channels/freecodecamp/stream_key\",\n",
            "        \"subscriptions\": \"https://api.twitch.tv/kraken/channels/freecodecamp/subscriptions\",\n",
            "        \"teams\": \"https://api.twitch.tv/kraken/channels/freecodecamp/teams\",\n",
            "        \"videos\": \"https://api.twitch.tv/kraken/channels/freecodecamp/videos\"\n",
            "    },\n",
            "    \"background\": null,\n",
            "    \"banner\": null,\n",
            "    \"broadcaster_language\": \"en\",\n",
            "    \"created_at\": \"2015-01-14T03:36:47Z\",\n",
            "    \"delay\": null,\n",
            "    \"display_name\": \"FreeCodeCamp\",\n",
            "    \"followers\": 10122,\n",
            "    \"game\": \"Creative\",\n",
            "    \"language\": \"en\",\n",
            "    \"logo\": \"https://static-cdn.jtvnw.net/jtv_user_pictures/freecodecamp-profile_image-d9514f2df0962329-300x300.png\",\n",
            "    \"mature\": false,\n",
            "    \"name\": \"freecodecamp\",\n",
            "    \"partner\": false,\n",
            "    \"profile_banner\": \"https://static-cdn.jtvnw.net/jtv_user_pictures/freecodecamp-profile_banner-6f5e3445ff474aec-480.png\",\n",
            "    \"profile_banner_background_color\": null,\n",
            "    \"status\": \"Greg working on Electron-Vue boilerplate w/ Akira #programming #vuejs #electron\",\n",
            "    \"updated_at\": \"2016-10-10T22:02:01Z\",\n",
            "    \"url\": \"https://www.twitch.tv/freecodecamp\",\n",
            "    \"video_banner\": \"https://static-cdn.jtvnw.net/jtv_user_pictures/freecodecamp-channel_offline_image-b8e133c78cd51cb0-1920x1080.png\",\n",
            "    \"views\": 163747\n",
            "}\n"
          ],
          "name": "stdout"
        }
      ]
    },
    {
      "cell_type": "code",
      "metadata": {
        "id": "Z2XzeDtYOjD9",
        "colab_type": "code",
        "colab": {}
      },
      "source": [
        "# List of channels we want to access\n",
        "channels = [\"ESL_SC2\", \"OgamingSC2\", \"cretetion\", \"freecodecamp\", \"storbeck\", \"habathcx\", \"RobotCaleb\", \"noobs2ninjas\",\n",
        "            \"ninja\", \"shroud\", \"Dakotaz\", \"esltv_cs\", \"pokimane\", \"tsm_bjergsen\", \"boxbox\", \"wtcn\", \"a_seagull\",\n",
        "           \"kinggothalion\", \"amazhs\", \"jahrein\", \"thenadeshot\", \"sivhd\", \"kingrichard\"]"
      ],
      "execution_count": 0,
      "outputs": []
    },
    {
      "cell_type": "code",
      "metadata": {
        "id": "TuvWhllBOp9U",
        "colab_type": "code",
        "colab": {}
      },
      "source": [
        "channels_list = []\n",
        "# For each channel, we access its information through its API\n",
        "for channel in channels:\n",
        "    JSONContent = requests.get(\"https://wind-bow.glitch.me/twitch-api/channels/\" + channel).json()\n",
        "    if 'error' not in JSONContent:\n",
        "        channels_list.append([JSONContent['_id'], JSONContent['display_name'], JSONContent['status'],\n",
        "                             JSONContent['followers'], JSONContent['views']])"
      ],
      "execution_count": 0,
      "outputs": []
    },
    {
      "cell_type": "code",
      "metadata": {
        "id": "r_XTBEaEOtk2",
        "colab_type": "code",
        "outputId": "b060173c-c9e8-4020-bec1-96c8752dd02f",
        "colab": {
          "base_uri": "https://localhost:8080/",
          "height": 197
        }
      },
      "source": [
        "dataset = pd.DataFrame(channels_list)\n",
        "dataset.sample(5)"
      ],
      "execution_count": 0,
      "outputs": [
        {
          "output_type": "execute_result",
          "data": {
            "text/html": [
              "<div>\n",
              "<style scoped>\n",
              "    .dataframe tbody tr th:only-of-type {\n",
              "        vertical-align: middle;\n",
              "    }\n",
              "\n",
              "    .dataframe tbody tr th {\n",
              "        vertical-align: top;\n",
              "    }\n",
              "\n",
              "    .dataframe thead th {\n",
              "        text-align: right;\n",
              "    }\n",
              "</style>\n",
              "<table border=\"1\" class=\"dataframe\">\n",
              "  <thead>\n",
              "    <tr style=\"text-align: right;\">\n",
              "      <th></th>\n",
              "      <th>0</th>\n",
              "      <th>1</th>\n",
              "      <th>2</th>\n",
              "      <th>3</th>\n",
              "      <th>4</th>\n",
              "    </tr>\n",
              "  </thead>\n",
              "  <tbody>\n",
              "    <tr>\n",
              "      <th>2</th>\n",
              "      <td>90401618</td>\n",
              "      <td>cretetion</td>\n",
              "      <td>It's a Divison kind of Day</td>\n",
              "      <td>908</td>\n",
              "      <td>11631</td>\n",
              "    </tr>\n",
              "    <tr>\n",
              "      <th>6</th>\n",
              "      <td>54925078</td>\n",
              "      <td>RobotCaleb</td>\n",
              "      <td>Code wrangling</td>\n",
              "      <td>20</td>\n",
              "      <td>4602</td>\n",
              "    </tr>\n",
              "    <tr>\n",
              "      <th>1</th>\n",
              "      <td>71852806</td>\n",
              "      <td>OgamingSC2</td>\n",
              "      <td>UnderDogs - Rediffusion - Qualifier.</td>\n",
              "      <td>40895</td>\n",
              "      <td>20694507</td>\n",
              "    </tr>\n",
              "    <tr>\n",
              "      <th>0</th>\n",
              "      <td>30220059</td>\n",
              "      <td>ESL_SC2</td>\n",
              "      <td>RERUN: StarCraft 2 - Terminator vs. Parting (P...</td>\n",
              "      <td>135394</td>\n",
              "      <td>60991791</td>\n",
              "    </tr>\n",
              "    <tr>\n",
              "      <th>5</th>\n",
              "      <td>6726509</td>\n",
              "      <td>Habathcx</td>\n",
              "      <td>Massively Effective</td>\n",
              "      <td>14</td>\n",
              "      <td>764</td>\n",
              "    </tr>\n",
              "  </tbody>\n",
              "</table>\n",
              "</div>"
            ],
            "text/plain": [
              "          0           1  ...       3         4\n",
              "2  90401618   cretetion  ...     908     11631\n",
              "6  54925078  RobotCaleb  ...      20      4602\n",
              "1  71852806  OgamingSC2  ...   40895  20694507\n",
              "0  30220059     ESL_SC2  ...  135394  60991791\n",
              "5   6726509    Habathcx  ...      14       764\n",
              "\n",
              "[5 rows x 5 columns]"
            ]
          },
          "metadata": {
            "tags": []
          },
          "execution_count": 6
        }
      ]
    }
  ]
}